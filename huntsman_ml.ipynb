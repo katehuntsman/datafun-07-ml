{
 "cells": [
  {
   "cell_type": "markdown",
   "metadata": {},
   "source": [
    "Notebook Title: Huntsman_ml.ipynb\n",
    "\n",
    "Author: Kate Huntsman\n",
    "\n",
    "Link to GitHub Repository: https://github.com/katehuntsman/datafun-07-ml"
   ]
  },
  {
   "cell_type": "code",
   "execution_count": 8,
   "metadata": {},
   "outputs": [],
   "source": [
    "import pandas as pd\n",
    "import numpy as np\n",
    "import seaborn as sns\n",
    "import matplotlib.pyplot as plt\n",
    "from scipy import stats\n",
    "from sklearn.model_selection import train_test_split\n",
    "from sklearn.linear_model import LinearRegression"
   ]
  },
  {
   "cell_type": "markdown",
   "metadata": {},
   "source": [
    "## Part 1 - Chart a Straight Line"
   ]
  },
  {
   "cell_type": "markdown",
   "metadata": {},
   "source": [
    "## Plot Celcius vs Fahrenheit"
   ]
  },
  {
   "cell_type": "code",
   "execution_count": null,
   "metadata": {},
   "outputs": [],
   "source": [
    "c = lambda f: 5 / 9 * (f - 32)\n",
    "\n",
    "temps = [(f, c(f)) for f in range(0, 101, 10)]\n",
    "\n",
    "temps_df = pd.DataFrame(temps, columns=['Fahrenheit', 'Celsius'])\n",
    "\n",
    "axes = temps_df.plot(x='Fahrenheit', y='Celsius', style='.-')\n",
    "\n",
    "y_label = axes.set_ylabel('Celsius')"
   ]
  },
  {
   "cell_type": "markdown",
   "metadata": {},
   "source": [
    "## Part 2 - Prediction"
   ]
  },
  {
   "cell_type": "markdown",
   "metadata": {},
   "source": [
    "## Data Acquisition"
   ]
  },
  {
   "cell_type": "code",
   "execution_count": 10,
   "metadata": {},
   "outputs": [],
   "source": [
    "csv_file_path = '/Users/katehuntsman/Downloads/IntroToPython-master/examples/ch10/snippets_py/ave_hi_nyc_jan_1895-2018.csv'# Path to your CSV file\n",
    "\n",
    "\n",
    "# Load the CSV file into a DataFrame\n",
    "nyc_df = pd.read_csv(csv_file_path)"
   ]
  },
  {
   "cell_type": "markdown",
   "metadata": {},
   "source": [
    "## Data Inspection"
   ]
  },
  {
   "cell_type": "code",
   "execution_count": null,
   "metadata": {},
   "outputs": [],
   "source": [
    "# Display head and tail\n",
    "print(nyc_df.head())\n",
    "print(nyc_df.tail())"
   ]
  },
  {
   "cell_type": "markdown",
   "metadata": {},
   "source": [
    "## Data Cleaning"
   ]
  },
  {
   "cell_type": "code",
   "execution_count": 19,
   "metadata": {},
   "outputs": [],
   "source": [
    "# Clean the data\n",
    "nyc_df.columns = ['Year', 'Avg_High_Temp', 'Anomaly']\n",
    "nyc_df['Year'] = pd.to_datetime(nyc_df['Year'], format='%Y', errors='coerce')"
   ]
  },
  {
   "cell_type": "markdown",
   "metadata": {},
   "source": [
    "## Descriptive Statistics"
   ]
  },
  {
   "cell_type": "code",
   "execution_count": null,
   "metadata": {},
   "outputs": [],
   "source": [
    "pd.set_option('display.precision', 2)\n",
    "nyc_df.describe()"
   ]
  },
  {
   "cell_type": "markdown",
   "metadata": {},
   "source": [
    "## Build the Model"
   ]
  },
  {
   "cell_type": "code",
   "execution_count": null,
   "metadata": {},
   "outputs": [],
   "source": [
    "from scipy.stats import linregress\n",
    "years = nyc_df['Year'].dt.year.values\n",
    "avg_temps = nyc_df['Avg_High_Temp'].values\n",
    "\n",
    "slope, intercept, r_value, p_value, std_err = linregress(years, avg_temps)\n",
    "print(f\"Slope: {slope:.4f}, Intercept: {intercept:.4f}\")\n"
   ]
  },
  {
   "cell_type": "markdown",
   "metadata": {},
   "source": [
    "## Predict"
   ]
  },
  {
   "cell_type": "code",
   "execution_count": null,
   "metadata": {},
   "outputs": [],
   "source": [
    "year_to_predict = 2024\n",
    "predicted_temp = slope * year_to_predict + intercept\n",
    "print(f'Predicted Average High Temp for January {year_to_predict}: {predicted_temp:.2f} °F')"
   ]
  },
  {
   "cell_type": "markdown",
   "metadata": {},
   "source": [
    "## Visualizations"
   ]
  },
  {
   "cell_type": "code",
   "execution_count": null,
   "metadata": {},
   "outputs": [],
   "source": [
    "plt.figure(figsize=(10, 6))\n",
    "sns.scatterplot(x=nyc_df['Year'].dt.year, y=nyc_df['Avg_High_Temp'], color='blue')\n",
    "plt.plot(nyc_df['Year'].dt.year, slope * nyc_df['Year'].dt.year + intercept, color='red')\n",
    "plt.title('Avg High Temp in NYC - January')\n",
    "plt.xlabel('Year')\n",
    "plt.ylabel('Avg High Temp (°F)')\n",
    "plt.axhline(y=predicted_temp, color='green', linestyle='--', label='Predicted Temp 2024')\n",
    "plt.legend()\n",
    "plt.show()"
   ]
  },
  {
   "cell_type": "markdown",
   "metadata": {},
   "source": [
    "## Part 3 - Prediction"
   ]
  },
  {
   "cell_type": "markdown",
   "metadata": {},
   "source": [
    "## Build the Model"
   ]
  },
  {
   "cell_type": "code",
   "execution_count": null,
   "metadata": {},
   "outputs": [],
   "source": [
    "X = nyc_df['Year'].dt.year.values.reshape(-1, 1)\n",
    "y = nyc_df['Avg_High_Temp']\n",
    "X_train, X_test, y_train, y_test = train_test_split(X, y, test_size=0.2, random_state=42)"
   ]
  },
  {
   "cell_type": "markdown",
   "metadata": {},
   "source": [
    "## Train the Model"
   ]
  },
  {
   "cell_type": "code",
   "execution_count": null,
   "metadata": {},
   "outputs": [],
   "source": [
    "model = LinearRegression()\n",
    "model.fit(X_train, y_train)\n",
    "\n",
    "print(f\"Coefficient: {model.coef_[0]}, Intercept: {model.intercept_}\")"
   ]
  },
  {
   "cell_type": "markdown",
   "metadata": {},
   "source": [
    "## Test the Model"
   ]
  },
  {
   "cell_type": "code",
   "execution_count": null,
   "metadata": {},
   "outputs": [],
   "source": [
    "# Test the model by predicting the values on the test set\n",
    "y_pred = model.predict(X_test)\n",
    "\n",
    "# Compare predicted vs actual values\n",
    "comparison_df = pd.DataFrame({'Actual': y_test, 'Predicted': y_pred})\n",
    "print(comparison_df.head())"
   ]
  },
  {
   "cell_type": "markdown",
   "metadata": {},
   "source": [
    "## Predict"
   ]
  },
  {
   "cell_type": "code",
   "execution_count": null,
   "metadata": {},
   "outputs": [],
   "source": [
    "future_prediction = model.predict(np.array([[2024]]))\n",
    "print(f\"Predicted Average High Temp in Jan 2024: {future_prediction[0]:.2f} °F\")"
   ]
  },
  {
   "cell_type": "markdown",
   "metadata": {},
   "source": [
    "## Visualizations"
   ]
  },
  {
   "cell_type": "code",
   "execution_count": null,
   "metadata": {},
   "outputs": [],
   "source": [
    "plt.figure(figsize=(10, 6))\n",
    "sns.scatterplot(x=X_test.flatten(), y=y_test, color='blue', label='Test Data')\n",
    "plt.plot(X.flatten(), model.predict(X), color='red', label='Best Fit Line')\n",
    "plt.title('Model Prediction')\n",
    "plt.xlabel('Year')\n",
    "plt.ylabel('Avg High Temp (°F)')\n",
    "plt.axhline(y=future_prediction[0], color='green', linestyle='--', label='Predicted Temp 2024')\n",
    "plt.legend()\n",
    "plt.show()"
   ]
  },
  {
   "cell_type": "markdown",
   "metadata": {},
   "source": [
    "## Part 4 - Insights and Comparisons\n",
    "\n",
    "In this project, we employed two methods to predict the average high temperature in January for New York City: the **SciPy `linregress` method** and the **scikit-learn Linear Regression model**. Both approaches have their strengths and weaknesses, which are discussed below.\n",
    "\n",
    "### Method 1: SciPy `linregress`\n",
    "- **Simplicity**: The `linregress` function from SciPy provides a straightforward and efficient way to calculate the linear regression line. It outputs the slope, intercept, and correlation coefficient directly.\n",
    "- **Use Case**: This method is particularly effective for quick analyses or when working with smaller datasets. It allows for rapid results without extensive setup.\n",
    "- **Limitations**: While quick and easy, `linregress` is less flexible for more complex modeling tasks. It doesn't provide built-in support for feature scaling, cross-validation, or more sophisticated metrics.\n",
    "\n",
    "### Method 2: Scikit-learn Linear Regression\n",
    "- **Flexibility**: Using scikit-learn allows for more robust modeling capabilities, such as splitting data into training and testing sets, which is critical for evaluating model performance.\n",
    "- **Performance Evaluation**: This method facilitates the use of various performance metrics (e.g., R-squared, Mean Absolute Error) and allows for more intricate preprocessing steps like feature scaling.\n",
    "- **Complexity**: However, it requires a bit more setup and understanding of machine learning practices. For beginners, it might seem daunting initially.\n",
    "\n",
    "### Conclusion\n",
    "Both methods yielded similar predictions for the average high temperature in January 2024. The choice between them largely depends on the specific requirements of the analysis. For quick, simple predictions, `linregress` is adequate. For more detailed modeling and evaluation, scikit-learn is the better option.\n",
    "\n",
    "In future analyses, I would recommend considering the trade-offs between simplicity and flexibility, depending on the project's objectives and the complexity of the data involved."
   ]
  },
  {
   "cell_type": "markdown",
   "metadata": {},
   "source": [
    "## Part 5 - Bonus"
   ]
  }
 ],
 "metadata": {
  "kernelspec": {
   "display_name": ".venv",
   "language": "python",
   "name": "python3"
  },
  "language_info": {
   "codemirror_mode": {
    "name": "ipython",
    "version": 3
   },
   "file_extension": ".py",
   "mimetype": "text/x-python",
   "name": "python",
   "nbconvert_exporter": "python",
   "pygments_lexer": "ipython3",
   "version": "3.12.5"
  }
 },
 "nbformat": 4,
 "nbformat_minor": 2
}
